{
 "cells": [
  {
   "cell_type": "code",
   "execution_count": 24,
   "metadata": {},
   "outputs": [
    {
     "name": "stderr",
     "output_type": "stream",
     "text": [
      "[nltk_data] Downloading package punkt to /home/nikolai/nltk_data...\n",
      "[nltk_data]   Unzipping tokenizers/punkt.zip.\n"
     ]
    },
    {
     "data": {
      "text/plain": [
       "True"
      ]
     },
     "execution_count": 24,
     "metadata": {},
     "output_type": "execute_result"
    }
   ],
   "source": [
    "import pandas as pd\n",
    "import nltk\n",
    "\n",
    "nltk.download('punkt')"
   ]
  },
  {
   "cell_type": "code",
   "execution_count": 18,
   "metadata": {},
   "outputs": [],
   "source": [
    "df = pd.read_csv('./data/tweets.csv')"
   ]
  },
  {
   "cell_type": "code",
   "execution_count": 19,
   "metadata": {},
   "outputs": [],
   "source": [
    "df = df['text']\n",
    "df.to_csv(r'./data/text_only.txt', header=None, index=None, sep=' ', mode='a')"
   ]
  },
  {
   "cell_type": "code",
   "execution_count": 10,
   "metadata": {},
   "outputs": [],
   "source": [
    "from nltk.corpus.reader.plaintext import PlaintextCorpusReader"
   ]
  },
  {
   "cell_type": "code",
   "execution_count": 20,
   "metadata": {},
   "outputs": [],
   "source": [
    "reader = PlaintextCorpusReader('./data/', '.*\\.txt')"
   ]
  },
  {
   "cell_type": "code",
   "execution_count": 27,
   "metadata": {},
   "outputs": [
    {
     "data": {
      "text/plain": [
       "['\"',\n",
       " 'I',\n",
       " 'was',\n",
       " 'thrilled',\n",
       " 'to',\n",
       " 'be',\n",
       " 'back',\n",
       " 'in',\n",
       " 'the',\n",
       " 'Great',\n",
       " 'city',\n",
       " 'of',\n",
       " 'Charlotte',\n",
       " ',',\n",
       " 'North',\n",
       " 'Carolina',\n",
       " 'with',\n",
       " 'thousands',\n",
       " 'of',\n",
       " 'hardworking',\n",
       " 'American',\n",
       " 'Patriots',\n",
       " 'who',\n",
       " 'love',\n",
       " 'our',\n",
       " 'Country',\n",
       " ',',\n",
       " 'cherish',\n",
       " 'our',\n",
       " 'values',\n",
       " ',',\n",
       " 'respect',\n",
       " 'our',\n",
       " 'laws',\n",
       " ',',\n",
       " 'and',\n",
       " 'always',\n",
       " 'put',\n",
       " 'AMERICA',\n",
       " 'FIRST',\n",
       " '!']"
      ]
     },
     "execution_count": 27,
     "metadata": {},
     "output_type": "execute_result"
    }
   ],
   "source": [
    "reader.sents('text_only.txt')[1]"
   ]
  }
 ],
 "metadata": {
  "kernelspec": {
   "display_name": "Python 3",
   "language": "python",
   "name": "python3"
  },
  "language_info": {
   "codemirror_mode": {
    "name": "ipython",
    "version": 3
   },
   "file_extension": ".py",
   "mimetype": "text/x-python",
   "name": "python",
   "nbconvert_exporter": "python",
   "pygments_lexer": "ipython3",
   "version": "3.8.6"
  }
 },
 "nbformat": 4,
 "nbformat_minor": 4
}
