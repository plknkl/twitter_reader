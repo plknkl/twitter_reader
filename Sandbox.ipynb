{
 "cells": [
  {
   "cell_type": "code",
   "execution_count": 1,
   "metadata": {},
   "outputs": [],
   "source": [
    "from twitter_reader.twitter_manager.component import APIConfig, APIManager\n",
    "from twitter_reader.data_storer.component import DBConfig, DBManager"
   ]
  },
  {
   "cell_type": "code",
   "execution_count": null,
   "metadata": {},
   "outputs": [],
   "source": []
  },
  {
   "cell_type": "code",
   "execution_count": 2,
   "metadata": {},
   "outputs": [
    {
     "name": "stdout",
     "output_type": "stream",
     "text": [
      "https://api.twitter.com/2/tweets/search/recent?query=Superleague%20lang%3Aen&max_results=10&expansions=referenced_tweets.id&tweet.fields=text\n",
      "--\n",
      "got 10 tweets.\n"
     ]
    }
   ],
   "source": [
    "tm_conf = APIConfig()\n",
    "tm = APIManager(tm_conf)\n",
    "tweets = tm.query('Superleague lang:en', pages=1)"
   ]
  },
  {
   "cell_type": "code",
   "execution_count": 3,
   "metadata": {},
   "outputs": [
    {
     "name": "stdout",
     "output_type": "stream",
     "text": [
      "{'data': [{'id': '1384798452975116288', 'referenced_tweets': [{'type': 'replied_to', 'id': '1384792765121404932'}], 'text': '@UberWestHam I can guarantee this rule has been pushed through by those 12 clubs by dangling the threat of the superleague over UEFA. This needs to be changed now while they have the fans on their side. They also need to take away the fact that clubs get paid depending on \"how big they are\"'}, {'id': '1384798449766473728', 'referenced_tweets': [{'type': 'retweeted', 'id': '1384652322433867777'}], 'text': 'RT @fcsm_eng: Live footage of Florentino Perez trying to keep #SuperLeague alive: https://t.co/SxWj8t2LHp'}, {'id': '1384798449414152194', 'referenced_tweets': [{'type': 'retweeted', 'id': '1384794758258827264'}], 'text': 'RT @rioferdy5: “I want accountability &amp; answers... it’s what the fans deserve!”\\n\\n#VibeWithFive going LIVE soon to discuss the #SuperLeague…'}, {'id': '1384798448260681728', 'referenced_tweets': [{'type': 'retweeted', 'id': '1384761989088653313'}], 'text': 'RT @henrywinter: El Plastico is dead for now, thanks to fan-power and the likes of Gary Neville, Carragher, Henderson, Shaw and Klopp speak…'}, {'id': '1384798443206549505', 'referenced_tweets': [{'type': 'retweeted', 'id': '1384589759859859461'}], 'text': \"RT @iampetmutton: Boris Johnson rightly describes the #SuperLeague as a kind of cartel. Fair point.\\n\\nThough on the flipside, he'll carry on…\"}, {'id': '1384798439100325890', 'referenced_tweets': [{'type': 'retweeted', 'id': '1384784608244506628'}], 'text': 'RT @BeWarmers: The European Super League is Over \\n\\n#SuperLeagueOut #SuperLeague #europesuperleague https://t.co/prvC0F0aIG'}, {'id': '1384798434591399937', 'referenced_tweets': [{'type': 'retweeted', 'id': '1384656079775227905'}], 'text': 'RT @FabrizioRomano: #SuperLeague has been officially SUSPENDED 🚨🚫\\n\\n- English clubs have left (Chelsea too, official soon).\\n- Inter have lef…'}, {'id': '1384798434012450817', 'referenced_tweets': [{'type': 'retweeted', 'id': '1384794758258827264'}], 'text': 'RT @rioferdy5: “I want accountability &amp; answers... it’s what the fans deserve!”\\n\\n#VibeWithFive going LIVE soon to discuss the #SuperLeague…'}, {'id': '1384798420750282753', 'referenced_tweets': [{'type': 'retweeted', 'id': '1384626566362185729'}], 'text': 'RT @FabrizioRomano: Manchester United, Chelsea, Arsenal, Tottenham and Liverpool are set to LEAVE the #SuperLeague after Manchester City. 🚨…'}, {'id': '1384798416295825410', 'referenced_tweets': [{'type': 'retweeted', 'id': '1384419440415154177'}], 'text': \"RT @org_scp: It's a sad state of affairs when we see more velocity from individuals against the #SuperLeague, rather than what Governments…\"}], 'includes': {'tweets': [{'id': '1384792765121404932', 'referenced_tweets': [{'type': 'quoted', 'id': '1384791758559752192'}], 'text': 'Ffs - unbelievable, UEFA are just as bad. They never cared about the fans, they just cared about their pockets too and will now cave to whatever the big clubs want. https://t.co/Av4Q9QvD0A'}, {'id': '1384652322433867777', 'text': 'Live footage of Florentino Perez trying to keep #SuperLeague alive: https://t.co/SxWj8t2LHp'}, {'id': '1384794758258827264', 'text': '“I want accountability &amp; answers... it’s what the fans deserve!”\\n\\n#VibeWithFive going LIVE soon to discuss the #SuperLeague fallout! https://t.co/ZZ5NzrFsdH'}, {'id': '1384761989088653313', 'text': 'El Plastico is dead for now, thanks to fan-power and the likes of Gary Neville, Carragher, Henderson, Shaw and Klopp speaking out powerfully. But the shamed owners are still here, their greed has not abated. DCMS review promises hope - if it has real teeth. #SuperLeague'}, {'id': '1384589759859859461', 'text': \"Boris Johnson rightly describes the #SuperLeague as a kind of cartel. Fair point.\\n\\nThough on the flipside, he'll carry on awarding non-competitive, over priced contracts to Tory donors, friends &amp; family because there is nothing to see here. Nope, nothing... #ToryHypocrisy #GTTO\"}, {'id': '1384784608244506628', 'text': 'The European Super League is Over \\n\\n#SuperLeagueOut #SuperLeague #europesuperleague https://t.co/prvC0F0aIG'}, {'id': '1384656079775227905', 'text': '#SuperLeague has been officially SUSPENDED 🚨🚫\\n\\n- English clubs have left (Chelsea too, official soon).\\n- Inter have left, AC Milan are set to leave.\\n- Juventus and Spanish clubs: waiting for official position.\\n\\nThe whole #SuperLeague has been stopped to “reshape the project”.'}, {'id': '1384626566362185729', 'text': 'Manchester United, Chelsea, Arsenal, Tottenham and Liverpool are set to LEAVE the #SuperLeague after Manchester City. 🚨🚫\\n\\nThe process to withdraw has just begun. Work in progress with legal team for the English clubs. ⚠️ #MUFC #CFC #AFC #MCFC #THFC #LFC'}, {'id': '1384419440415154177', 'text': \"It's a sad state of affairs when we see more velocity from individuals against the #SuperLeague, rather than what Governments have done to our lives since March 2020.\\n\\nWhere did our priorities go in society.\"}]}, 'meta': {'newest_id': '1384798452975116288', 'oldest_id': '1384798416295825410', 'result_count': 10, 'next_token': 'b26v89c19zqg8o3fostsh6xa6rx2fk8mriafk1jx8yiyl'}} \n",
      "\n",
      "\n"
     ]
    }
   ],
   "source": [
    "for t in tweets:\n",
    "    print(t,'\\n\\n')"
   ]
  },
  {
   "cell_type": "code",
   "execution_count": 4,
   "metadata": {},
   "outputs": [
    {
     "data": {
      "text/plain": [
       "{'tweets': [{'id': '1384417943715336192',\n",
       "   'text': '#stockmarket plays for today #premarket \\n\\n- buy more $amc #amc \\n\\n- get $hitif to 4.20 \\n\\n- get #sndl to 4.20\\n\\n- get $VFF to 420 \\n\\n#stockstobuy #stonks #wsb #wallstreetbets #dodgecoin #reddit #Wallstreet #buynow #stocks #StocksToWatch #dfv #roaringkitty #Robinhood #ElonMusk $gme'},\n",
       "  {'id': '1382352922361548801',\n",
       "   'text': \"Don't sleep on #Expanse \\n\\nthe first stable fork of #Ethereum fairly launched in 2015\\n\\nBuy $EXP here:\\n- https://t.co/StPkrElxOY\\n- https://t.co/36XzVBuQ4n\\n\\n#bridge\\n- https://t.co/OreUflvpRJ\\n\\n#swap\\n- https://t.co/VetuIYszsW\\n\\n------\\n#blockchain #cryptocurrencies $TSLA $TSLAQ #stonks https://t.co/nWLgFEcLBJ\"},\n",
       "  {'id': '1384089341706706946',\n",
       "   'text': '#AMCARMY Volume starting to pick up now!!! Let’s go! Everyone go buy at least 1 more share #buynow $amc \\n\\n#amc let’s push this squeeze \\n\\nIM SOOOO PUMPED!!!! Let’s Do this 🦍 🚀🚀🚀🌙\\n\\nGO BUY AT LEAST 1 more now \\n\\nWho’s with me #AMC100k #wsb #wallstreetsbets #HODL #stonks #coin'},\n",
       "  {'id': '1384176238768517123',\n",
       "   'text': 'Remember to take any technical analysis of #AMC stock with a grain of salt, it’s heavily manipulated and you can’t really rely on traditional chart movement indicators! #BUYANDHOLD #WIN'}]}"
      ]
     },
     "execution_count": 4,
     "metadata": {},
     "output_type": "execute_result"
    }
   ],
   "source": [
    "tweets[0]['includes']"
   ]
  },
  {
   "cell_type": "code",
   "execution_count": 4,
   "metadata": {},
   "outputs": [
    {
     "data": {
      "text/plain": [
       "'@UberWestHam I can guarantee this rule has been pushed through by those 12 clubs by dangling the threat of the superleague over UEFA. This needs to be changed now while they have the fans on their side. They also need to take away the fact that clubs get paid depending on \"how big they are\"'"
      ]
     },
     "execution_count": 4,
     "metadata": {},
     "output_type": "execute_result"
    }
   ],
   "source": [
    "tweets[0]['data'][0]['text']"
   ]
  },
  {
   "cell_type": "code",
   "execution_count": 8,
   "metadata": {},
   "outputs": [],
   "source": [
    "import re\n",
    "\n",
    "def de_emojify(text):\n",
    "    regrex_pattern = re.compile(pattern = \"[\"\n",
    "        u\"\\U0001F600-\\U0001F64F\"  # emoticons\n",
    "        u\"\\U0001F300-\\U0001F5FF\"  # symbols & pictographs\n",
    "        u\"\\U0001F680-\\U0001F6FF\"  # transport & map symbols\n",
    "        u\"\\U0001F1E0-\\U0001F1FF\"  # flags (iOS)\n",
    "                           \"]+\", flags = re.UNICODE)\n",
    "    return regrex_pattern.sub(r'',text)\n",
    "\n",
    "def text_only(tweet_text):\n",
    "    # remove emoji\n",
    "    tweet_text = de_emojify(tweet_text)\n",
    "    # remove retweet tag\n",
    "    pattern = '^RT\\s@.*:\\s'\n",
    "    tweet_text = re.sub(pattern, '', tweet_text)\n",
    "    # remove \\n\n",
    "    tweet_text = re.sub('\\\\n', ' ', tweet_text)\n",
    "    # remove single tags\n",
    "    tweet_text = re.sub('\\$|#', '', tweet_text)\n",
    "    # remove double spaces\n",
    "    tweet_text = re.sub('\\s+', ' ', tweet_text)\n",
    "    # remove user references \n",
    "    tweet_text = re.sub('@\\w+', '', tweet_text)\n",
    "    # strip\n",
    "    tweet_text = tweet_text.strip()\n",
    "    \n",
    "    return tweet_text"
   ]
  },
  {
   "cell_type": "code",
   "execution_count": 9,
   "metadata": {},
   "outputs": [],
   "source": [
    "tt = tweets[0]['data'][0]['text']"
   ]
  },
  {
   "cell_type": "code",
   "execution_count": 10,
   "metadata": {},
   "outputs": [
    {
     "data": {
      "text/plain": [
       "'I can guarantee this rule has been pushed through by those 12 clubs by dangling the threat of the superleague over UEFA. This needs to be changed now while they have the fans on their side. They also need to take away the fact that clubs get paid depending on \"how big they are\"'"
      ]
     },
     "execution_count": 10,
     "metadata": {},
     "output_type": "execute_result"
    }
   ],
   "source": [
    "text_only(tt)"
   ]
  },
  {
   "cell_type": "code",
   "execution_count": 32,
   "metadata": {},
   "outputs": [
    {
     "data": {
      "text/plain": [
       "{'id': '1384420486663319552',\n",
       " 'referenced_tweets': [{'type': 'retweeted', 'id': '1384417943715336192'}],\n",
       " 'text': 'RT @Kentuckyhot: #stockmarket plays for today #premarket \\n\\n- buy more $amc #amc \\n\\n- get $hitif to 4.20 \\n\\n- get #sndl to 4.20\\n\\n- get $VFF to…'}"
      ]
     },
     "execution_count": 32,
     "metadata": {},
     "output_type": "execute_result"
    }
   ],
   "source": [
    "tweets[0]['data'][0]"
   ]
  },
  {
   "cell_type": "code",
   "execution_count": null,
   "metadata": {},
   "outputs": [],
   "source": []
  },
  {
   "cell_type": "code",
   "execution_count": null,
   "metadata": {},
   "outputs": [],
   "source": []
  },
  {
   "cell_type": "code",
   "execution_count": null,
   "metadata": {},
   "outputs": [],
   "source": []
  },
  {
   "cell_type": "code",
   "execution_count": null,
   "metadata": {},
   "outputs": [],
   "source": []
  },
  {
   "cell_type": "code",
   "execution_count": 3,
   "metadata": {},
   "outputs": [
    {
     "ename": "KeyError",
     "evalue": "'retweeted_status'",
     "output_type": "error",
     "traceback": [
      "\u001b[1;31m---------------------------------------------------------------------------\u001b[0m",
      "\u001b[1;31mKeyError\u001b[0m                                  Traceback (most recent call last)",
      "\u001b[1;32m<ipython-input-3-e7eba0cee174>\u001b[0m in \u001b[0;36m<module>\u001b[1;34m\u001b[0m\n\u001b[0;32m      3\u001b[0m         \u001b[0mprint\u001b[0m\u001b[1;33m(\u001b[0m\u001b[0mt\u001b[0m\u001b[1;33m[\u001b[0m\u001b[1;34m'full_text'\u001b[0m\u001b[1;33m]\u001b[0m\u001b[1;33m)\u001b[0m\u001b[1;33m\u001b[0m\u001b[1;33m\u001b[0m\u001b[0m\n\u001b[0;32m      4\u001b[0m     \u001b[1;32melse\u001b[0m\u001b[1;33m:\u001b[0m\u001b[1;33m\u001b[0m\u001b[1;33m\u001b[0m\u001b[0m\n\u001b[1;32m----> 5\u001b[1;33m         \u001b[0mprint\u001b[0m\u001b[1;33m(\u001b[0m\u001b[0mt\u001b[0m\u001b[1;33m[\u001b[0m\u001b[1;34m\"retweeted_status\"\u001b[0m\u001b[1;33m]\u001b[0m\u001b[1;33m[\u001b[0m\u001b[1;34m'full_text'\u001b[0m\u001b[1;33m]\u001b[0m\u001b[1;33m)\u001b[0m\u001b[1;33m\u001b[0m\u001b[1;33m\u001b[0m\u001b[0m\n\u001b[0m\u001b[0;32m      6\u001b[0m     \u001b[0mprint\u001b[0m\u001b[1;33m(\u001b[0m\u001b[1;33m)\u001b[0m\u001b[1;33m\u001b[0m\u001b[1;33m\u001b[0m\u001b[0m\n\u001b[0;32m      7\u001b[0m     \u001b[0mprint\u001b[0m\u001b[1;33m(\u001b[0m\u001b[1;33m)\u001b[0m\u001b[1;33m\u001b[0m\u001b[1;33m\u001b[0m\u001b[0m\n",
      "\u001b[1;31mKeyError\u001b[0m: 'retweeted_status'"
     ]
    }
   ],
   "source": [
    "for t in tweets:\n",
    "    if 'full_text' in t.keys():\n",
    "        print(t['full_text'])\n",
    "    else:\n",
    "        print(t[\"retweeted_status\"]['full_text'])\n",
    "    print()\n",
    "    print()\n",
    "    print()"
   ]
  },
  {
   "cell_type": "code",
   "execution_count": 3,
   "metadata": {},
   "outputs": [
    {
     "data": {
      "text/plain": [
       "{'id': '1382706952623493121',\n",
       " 'text': '@sweetsinner3 Which app can I buy from? I am in the US'}"
      ]
     },
     "execution_count": 3,
     "metadata": {},
     "output_type": "execute_result"
    }
   ],
   "source": []
  },
  {
   "cell_type": "code",
   "execution_count": null,
   "metadata": {},
   "outputs": [],
   "source": []
  },
  {
   "cell_type": "code",
   "execution_count": null,
   "metadata": {},
   "outputs": [],
   "source": []
  },
  {
   "cell_type": "code",
   "execution_count": 6,
   "metadata": {},
   "outputs": [],
   "source": [
    "import random"
   ]
  },
  {
   "cell_type": "code",
   "execution_count": 8,
   "metadata": {},
   "outputs": [
    {
     "data": {
      "text/plain": [
       "174"
      ]
     },
     "execution_count": 8,
     "metadata": {},
     "output_type": "execute_result"
    }
   ],
   "source": [
    "random.randint(100, 200)"
   ]
  },
  {
   "cell_type": "code",
   "execution_count": null,
   "metadata": {},
   "outputs": [],
   "source": []
  },
  {
   "cell_type": "code",
   "execution_count": null,
   "metadata": {},
   "outputs": [],
   "source": []
  },
  {
   "cell_type": "code",
   "execution_count": null,
   "metadata": {},
   "outputs": [],
   "source": []
  },
  {
   "cell_type": "code",
   "execution_count": null,
   "metadata": {},
   "outputs": [],
   "source": []
  },
  {
   "cell_type": "code",
   "execution_count": null,
   "metadata": {},
   "outputs": [],
   "source": []
  },
  {
   "cell_type": "code",
   "execution_count": null,
   "metadata": {},
   "outputs": [],
   "source": []
  },
  {
   "cell_type": "code",
   "execution_count": null,
   "metadata": {},
   "outputs": [],
   "source": []
  },
  {
   "cell_type": "code",
   "execution_count": 10,
   "metadata": {},
   "outputs": [],
   "source": [
    "doc_text = \". \".join([x['text'] for x in tweets])"
   ]
  },
  {
   "cell_type": "code",
   "execution_count": 11,
   "metadata": {},
   "outputs": [
    {
     "name": "stdout",
     "output_type": "stream",
     "text": [
      "Nike\n",
      "Air\n",
      "Max\n",
      "1\n",
      "'\n",
      "Dark\n",
      "Teal\n",
      "Green\n",
      "'\n",
      "\n",
      "\n",
      "Price:$150\n",
      "\n",
      "\n",
      "Release\n",
      "Date\n",
      ":\n",
      "2021\n",
      "-\n",
      "04\n",
      "-\n",
      "15\n",
      "\n",
      "\n",
      "Style\n",
      "Code\n",
      ":\n",
      "DH4059\n",
      "-\n",
      "101\n",
      "\n",
      "\n",
      "Color\n",
      ":\n",
      "White\n",
      "/\n",
      "Dark\n",
      "Teal\n",
      "Green\n",
      "/\n",
      "Wolf\n",
      "Grey\n",
      "/\n",
      "Black\n",
      "\n",
      "\n",
      "=\n",
      "&\n",
      "gt;https://t.co\n",
      "/\n",
      "nH35N4KClz\n",
      "https://t.co/ssHsqPDsHt\n",
      ".\n",
      "Nike\n",
      "Air\n",
      "Max\n",
      "1\n",
      "'\n",
      "Dark\n",
      "Teal\n",
      "Green\n",
      "'\n",
      "\n",
      "\n",
      "Price:$150\n",
      "\n",
      "\n",
      "Release\n",
      "Date\n",
      ":\n",
      "2021\n",
      "-\n",
      "04\n",
      "-\n",
      "15\n",
      "\n",
      "\n",
      "Style\n",
      "Code\n",
      ":\n",
      "DH4059\n",
      "-\n",
      "101\n",
      "\n",
      "\n",
      "Color\n",
      ":\n",
      "White\n",
      "/\n",
      "Dark\n",
      "Teal\n",
      "Green\n",
      "/\n",
      "Wolf\n",
      "Grey\n",
      "/\n",
      "Black\n",
      "\n",
      "\n",
      "=\n",
      "&\n",
      "gt;https://t.co\n",
      "/\n",
      "BnEpP2H8Vb\n",
      "https://t.co/pC50DWYQAf\n",
      ".\n",
      "RT\n",
      "@lfvm26\n",
      ":\n",
      "Que\n",
      "lindo\n",
      "es\n",
      "el\n",
      "amor\n",
      "pero\n",
      "son\n",
      "más\n",
      "lindas\n",
      "unas\n",
      "Nike\n",
      "nuevas\n",
      "🥰\n",
      ".\n",
      "Gente\n",
      "como\n",
      "a\n",
      "gente\n",
      "que\n",
      "mistura\n",
      "adidas\n",
      "com\n",
      "Nike\n",
      "hahahaha\n",
      "https://t.co/zGtXmwWnQ6\n",
      ".\n",
      "Nike\n",
      "Air\n",
      "Structure\n",
      "\"\n",
      "Neo\n",
      "Teal\n",
      "\"\n",
      "is\n",
      "available\n",
      "under\n",
      "retail\n",
      "+\n",
      "free\n",
      "shipping\n",
      "\n",
      "\n",
      "\n",
      "Buy\n",
      "Here\n",
      ":\n",
      "https://t.co/qG0SOA1A0\n",
      "T\n",
      "https://t.co/Wtxx491alv\n",
      ".\n",
      "Few\n",
      "sizes\n",
      "restocked\n",
      "\n",
      "\n",
      "Nike\n",
      "Air\n",
      "Structure\n",
      "OG\n",
      "'\n",
      "Neo\n",
      "Teal\n",
      "'\n",
      "\n",
      "\n",
      "=\n",
      "&\n",
      "gt\n",
      ";\n",
      "https://t.co/y3MfWFeA9O\n",
      "\n",
      "\n",
      "\n",
      "15\n",
      "%\n",
      "off\n",
      "w/\n",
      "code\n",
      "PARAPR15\n",
      "https://t.co/QK5lryeLoL.\n",
      "RT\n",
      "@trajesRj\n",
      ":\n",
      "EGITO\n",
      "X\n",
      "NIKE\n",
      "👏\n",
      "🏿\n",
      "https://t.co/ukLZ2zFajL.\n",
      "Something\n",
      "about\n",
      "Z\n",
      "wearing\n",
      "a\n",
      "nike\n",
      "beanie\n",
      "and\n",
      "an\n",
      "adidas\n",
      "hoodie\n",
      ".\n",
      "欲しかったオレンジのNIKEが信じられない値段でうってるｩ\n",
      "！\n",
      "https://t.co/z0fb9oLbxX.\n",
      "@SicarioScott\n",
      "I\n",
      "wish\n",
      "Nike\n",
      "made\n",
      "books\n",
      "..\n",
      "TERRIFIC\n",
      "Chili\n",
      "'\n",
      "TB12\n",
      "4,633\n",
      "Yds\n",
      "40\n",
      "TD\n",
      "Aaron\n",
      "Rodgers\n",
      "is\n",
      "Following\n",
      "the\n",
      "Path\n",
      "of\n",
      "227\n",
      "'s\n",
      "YouTube\n",
      "Chili\n",
      "'\n",
      "Tom\n",
      "Chili\n",
      "'\n",
      "Brady\n",
      "#\n",
      "GoBucs\n",
      "#\n",
      "SuperBowl\n",
      "Spicy\n",
      "'\n",
      "https://t.co/UZbCsexWIa\n",
      "https://t.co/2zmvUH7ost\n",
      "#\n",
      "Michigan\n",
      "…\n",
      "https://t.co/QXKnSgcduI\n",
      "https://t.co/SgazrEtgGa\n",
      "https://t.co/L6NwC58B9H.\n",
      "Rudy\n",
      "Chili\n",
      "'\n",
      "Gobert\n",
      "Spicy\n",
      "'\n",
      "NBA\n",
      "All\n",
      "-\n",
      "Star\n",
      "227\n",
      "'s\n",
      "YouTube\n",
      "Chili\n",
      "'\n",
      "Rudy\n",
      "Chili\n",
      "'\n",
      "Gobert\n",
      "14.6\n",
      "PPG\n",
      "13.3\n",
      "RPG\n",
      "1.2\n",
      "APG\n",
      "#\n",
      "TakeNote\n",
      "Spicy\n",
      "'\n",
      "https://t.co/CiXy2HiYkW\n",
      "https://t.co/2zmvUH7ost\n",
      ":\n",
      "JORDAN\n",
      "CLARKSON\n",
      "IS\n",
      "UNANIMOUS\n",
      "6th\n",
      "MOY\n",
      "https://t.co/Hp0LlTX4PF\n",
      "https://t.co/yRDDFr9uYz\n",
      "https://t.co/utv013JRK8\n",
      ".\n",
      "@JesseKellyDC\n",
      "I\n",
      "will\n",
      "never\n",
      "buy\n",
      "it\n",
      ",\n",
      "along\n",
      "with\n",
      "Nike\n",
      "and\n",
      "Coke\n",
      ".\n",
      "And\n",
      "do\n",
      "n’t\n",
      "get\n",
      "me\n",
      "started\n",
      "on\n",
      "Starbucks\n",
      ",\n",
      "as\n",
      "I\n",
      "’ve\n",
      "threatened\n",
      "all\n",
      "my\n",
      "family\n",
      "members\n",
      "if\n",
      "they\n",
      "give\n",
      "a\n",
      "dime\n",
      "to\n",
      "that\n",
      "communist\n",
      "organization\n",
      ".\n",
      "Trae\n",
      "Chili\n",
      "'\n",
      "Young\n",
      "NBA\n",
      "Leader\n",
      ":\n",
      "25.7\n",
      "PPG\n",
      "LUKA\n",
      "DONCIC\n",
      "AND\n",
      "227\n",
      "'s\n",
      "YouTube\n",
      "Chili\n",
      "'\n",
      "Trae\n",
      "Chili\n",
      "'\n",
      "Young\n",
      "25.7\n",
      "PPG\n",
      "4.0\n",
      "RPG\n",
      "9.5\n",
      "APG\n",
      "#\n",
      "TrueToAtlanta\n",
      "Spicy\n",
      "'\n",
      "https://t.co/lFxn0VImns\n",
      "https://t.co/2zmvUH7ost\n",
      "#\n",
      "Oklahoma\n",
      "…\n",
      "https://t.co/kheCUk9d0c\n",
      "https://t.co/MzqM4JCjrP\n",
      "https://t.co/MnJCBdoLvI.\n",
      "Brand\n",
      "identity\n",
      "includes\n",
      "all\n",
      "the\n",
      "visual\n",
      "elements\n",
      "associated\n",
      "with\n",
      "your\n",
      "brand\n",
      ",\n",
      "from\n",
      "your\n",
      "logo\n",
      "and\n",
      "typography\n",
      "to\n",
      "colors\n",
      ",\n",
      "product\n",
      "packaging\n",
      "design\n",
      "..\n",
      "Nike\n",
      "’s\n",
      "iconic\n",
      "swoosh\n",
      "logo\n",
      ",\n",
      "for\n",
      "instance\n",
      ",\n",
      "is\n",
      "part\n",
      "of\n",
      "the\n",
      "company\n",
      "’s\n",
      "brand\n",
      "identity\n",
      ".\n",
      "\n",
      " \n",
      "#\n",
      "NMKTRCH\n",
      "#\n",
      "MKTINGNEURO\n",
      "@lets_NEUROmkt\n",
      "https://t.co/gWRvd58oSe\n",
      ".\n",
      "https://t.co/2A5yIjKnpG\n",
      "Spicy\n",
      "'\n",
      "Music\n",
      "TV\n",
      "Luke\n",
      "Combs\n",
      ",\n",
      "Blake\n",
      "Shelton\n",
      ",\n",
      "Luke\n",
      "Bryan\n",
      ",\n",
      "227\n",
      "'s\n",
      "YouTube\n",
      "Chili\n",
      "'\n",
      "Morgan\n",
      "Chili\n",
      "'\n",
      "Wallen\n",
      "https://t.co/mlPkANMwXT\n",
      "https://t.co/XuTNAgqtLw\n",
      "#\n",
      "MorganWallen\n",
      "#\n",
      "NIKE'Spicy'Tunes\n",
      ",\n",
      "Dan\n",
      "…\n",
      "https://t.co/bxdGsp3dtj\n",
      "https://t.co/yDKaioRSeQ\n",
      "https://t.co/bs8soPR41E.\n",
      "RT\n",
      "@dropsdotgg\n",
      ":\n",
      "Detailed\n",
      "Look\n",
      "at\n",
      "the\n",
      "Supreme\n",
      "x\n",
      "Nike\n",
      "Air\n",
      "Max\n",
      "96\n",
      "that\n",
      "will\n",
      "be\n",
      "releasing\n",
      "in\n",
      "three\n",
      "colorways\n",
      "soon\n",
      "this\n",
      "season\n",
      "https://t.co/i9CT\n",
      "…\n",
      ".\n",
      "@emynuns\n",
      "bagulho\n",
      "é\n",
      "nike\n",
      ".\n",
      "RT\n",
      "@bespokeinvest\n",
      ":\n",
      "Of\n",
      "the\n",
      "30\n",
      "Dow\n",
      "members\n",
      ",\n",
      "Nike\n",
      "$\n",
      "NKE\n",
      "is\n",
      "the\n",
      "only\n",
      "one\n",
      "that\n",
      "'s\n",
      "oversold\n",
      ",\n",
      "while\n",
      "Disney\n",
      "$\n",
      "DIS\n",
      "and\n",
      "$\n",
      "JNJ\n",
      "are\n",
      "the\n",
      "only\n",
      "others\n",
      "below\n",
      "t\n",
      "…\n",
      ".\n",
      "AKIRA\n",
      "×\n",
      "NIKE\n",
      "×\n",
      "AMBUSHするってマジか&gt;RT\n"
     ]
    }
   ],
   "source": [
    "import spacy\n",
    "\n",
    "nlp = spacy.load(\"en_core_web_sm\")\n",
    "doc = nlp(doc_text)\n",
    "for token in doc:\n",
    "    print(token.text)"
   ]
  },
  {
   "cell_type": "code",
   "execution_count": 1,
   "metadata": {},
   "outputs": [],
   "source": [
    "import numpy as np\n",
    "import pandas as pd\n",
    "\n",
    "import gensim\n",
    "import gensim.corpora as corpora\n",
    "from gensim.utils import simple_preprocess\n",
    "from gensim.models import CoherenceModel\n",
    "\n",
    "import spacy\n",
    "from spacy.lang.en.stop_words import STOP_WORDS\n",
    "import en_core_web_sm\n",
    "\n",
    "from tqdm import tqdm_notebook as tqdm\n",
    "from pprint import pprint\n",
    "\n",
    "from spacy.language import Language"
   ]
  },
  {
   "cell_type": "code",
   "execution_count": 2,
   "metadata": {},
   "outputs": [],
   "source": [
    "nytimes = pd.read_csv('./datasets/nytimes.csv')\n",
    "newest_doc = nytimes['lead_paragraph']"
   ]
  },
  {
   "cell_type": "code",
   "execution_count": 3,
   "metadata": {},
   "outputs": [
    {
     "data": {
      "text/plain": [
       "0    At Hostos Community College in the South Bronx...\n",
       "1    WASHINGTON -- Companies spend millions of doll...\n",
       "2    President Reagan today raised the question of ...\n",
       "3    When flight attendants were ordered by their u...\n",
       "4    THE escalation of violence in the Middle East ...\n",
       "Name: lead_paragraph, dtype: object"
      ]
     },
     "execution_count": 3,
     "metadata": {},
     "output_type": "execute_result"
    }
   ],
   "source": [
    "newest_doc.head()"
   ]
  },
  {
   "cell_type": "code",
   "execution_count": 4,
   "metadata": {},
   "outputs": [],
   "source": [
    "nlp = spacy.load(\"en_core_web_sm\")\n",
    "\n",
    "# My list of stop words.\n",
    "stop_list = [\"Mrs.\",\"Ms.\",\"say\",\"WASHINGTON\",\"'s\",\"Mr.\",]\n",
    "\n",
    "# Updates spaCy's default stop words list with my additional words. \n",
    "nlp.Defaults.stop_words.update(stop_list)\n",
    "\n",
    "# Iterates over the words in the stop words list and resets the \"is_stop\" flag.\n",
    "for word in STOP_WORDS:\n",
    "    lexeme = nlp.vocab[word]\n",
    "    lexeme.is_stop = True"
   ]
  },
  {
   "cell_type": "code",
   "execution_count": 5,
   "metadata": {},
   "outputs": [
    {
     "data": {
      "text/plain": [
       "<function __main__.remove_stopwords(doc)>"
      ]
     },
     "execution_count": 5,
     "metadata": {},
     "output_type": "execute_result"
    }
   ],
   "source": [
    "@Language.component('lemmer')\n",
    "def lemmatizer(doc):\n",
    "    # This takes in a doc of tokens from the NER and lemmatizes them. \n",
    "    # Pronouns (like \"I\" and \"you\" get lemmatized to '-PRON-', so I'm removing those.\n",
    "    doc = [token.lemma_ for token in doc if token.lemma_ != '-PRON-']\n",
    "    doc = u' '.join(doc)\n",
    "    return nlp.make_doc(doc)\n",
    "    \n",
    "@Language.component('stopper')    \n",
    "def remove_stopwords(doc):\n",
    "    # This will remove stopwords and punctuation.\n",
    "    # Use token.text to return strings, which we'll need for Gensim.\n",
    "    doc = [token.text for token in doc if token.is_stop != True and token.is_punct != True]\n",
    "    return doc\n",
    "\n",
    "# The add_pipe function appends our functions to the default pipeline.\n",
    "# nlp.add_pipe('lemmer',name='lemmatizer',after='ner')\n",
    "nlp.add_pipe('stopper', name=\"stopwords\", last=True)"
   ]
  },
  {
   "cell_type": "code",
   "execution_count": 6,
   "metadata": {},
   "outputs": [
    {
     "name": "stderr",
     "output_type": "stream",
     "text": [
      "<ipython-input-6-fb7e028ad7c5>:3: TqdmDeprecationWarning: This function will be removed in tqdm==5.0.0\n",
      "Please use `tqdm.notebook.tqdm` instead of `tqdm.tqdm_notebook`\n",
      "  for doc in tqdm(newest_doc):\n"
     ]
    },
    {
     "data": {
      "application/vnd.jupyter.widget-view+json": {
       "model_id": "9f55b605235b4390930437b9aa94b8a9",
       "version_major": 2,
       "version_minor": 0
      },
      "text/plain": [
       "  0%|          | 0/5000 [00:00<?, ?it/s]"
      ]
     },
     "metadata": {},
     "output_type": "display_data"
    }
   ],
   "source": [
    "doc_list = []\n",
    "# Iterates through each article in the corpus.\n",
    "for doc in tqdm(newest_doc):\n",
    "    # Passes that article through the pipeline and adds to a new list.b\n",
    "    pr = nlp(doc)\n",
    "    doc_list.append(pr)"
   ]
  },
  {
   "cell_type": "code",
   "execution_count": 8,
   "metadata": {},
   "outputs": [],
   "source": [
    "# Creates, which is a mapping of word IDs to words.\n",
    "words = corpora.Dictionary(doc_list)\n",
    "\n",
    "# Turns each document into a bag of words.\n",
    "corpus = [words.doc2bow(doc) for doc in doc_list]"
   ]
  },
  {
   "cell_type": "code",
   "execution_count": 13,
   "metadata": {},
   "outputs": [],
   "source": [
    "lda_model = gensim.models.ldamodel.LdaModel(corpus=corpus,\n",
    "                                           id2word=words,\n",
    "                                           num_topics=2, \n",
    "                                           random_state=2,\n",
    "                                           update_every=1,\n",
    "                                           passes=10,\n",
    "                                           alpha='auto',\n",
    "                                           per_word_topics=True)"
   ]
  },
  {
   "cell_type": "code",
   "execution_count": 15,
   "metadata": {},
   "outputs": [
    {
     "name": "stdout",
     "output_type": "stream",
     "text": [
      "[(0, '0.019*\"percent\" + 0.010*\"said\"'),\n",
      " (1, '0.008*\"President\" + 0.006*\"economic\"')]\n"
     ]
    }
   ],
   "source": [
    "pprint(lda_model.print_topics(num_words=2))"
   ]
  },
  {
   "cell_type": "code",
   "execution_count": null,
   "metadata": {},
   "outputs": [],
   "source": []
  },
  {
   "cell_type": "code",
   "execution_count": null,
   "metadata": {},
   "outputs": [],
   "source": []
  },
  {
   "cell_type": "code",
   "execution_count": 2,
   "metadata": {},
   "outputs": [],
   "source": []
  },
  {
   "cell_type": "code",
   "execution_count": null,
   "metadata": {},
   "outputs": [],
   "source": []
  },
  {
   "cell_type": "code",
   "execution_count": null,
   "metadata": {},
   "outputs": [],
   "source": []
  },
  {
   "cell_type": "code",
   "execution_count": null,
   "metadata": {},
   "outputs": [],
   "source": []
  }
 ],
 "metadata": {
  "kernelspec": {
   "display_name": "Python 3",
   "language": "python",
   "name": "python3"
  },
  "language_info": {
   "codemirror_mode": {
    "name": "ipython",
    "version": 3
   },
   "file_extension": ".py",
   "mimetype": "text/x-python",
   "name": "python",
   "nbconvert_exporter": "python",
   "pygments_lexer": "ipython3",
   "version": "3.8.8"
  }
 },
 "nbformat": 4,
 "nbformat_minor": 4
}
