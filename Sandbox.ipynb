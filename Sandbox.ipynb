{
 "cells": [
  {
   "cell_type": "code",
   "execution_count": 1,
   "metadata": {},
   "outputs": [],
   "source": [
    "from twitter_reader.twitter_manager.component import APIConfig, APIManager\n",
    "from twitter_reader.data_storer.component import DBConfig, DBManager\n",
    "from twitter_reader.tweets_transformer.component import text_only"
   ]
  },
  {
   "cell_type": "code",
   "execution_count": 57,
   "metadata": {},
   "outputs": [],
   "source": [
    "collect = []"
   ]
  },
  {
   "cell_type": "code",
   "execution_count": 53,
   "metadata": {},
   "outputs": [
    {
     "name": "stdout",
     "output_type": "stream",
     "text": [
      "https://api.twitter.com/2/tweets/search/recent?query=amnesty%20international%20lang%3Aen&max_results=10&expansions=referenced_tweets.id&tweet.fields=text\n",
      "--\n",
      "got 10 tweets.\n",
      "https://api.twitter.com/2/tweets/search/recent?query=amnesty%20international%20lang%3Aen&next_token=b26v89c19zqg8o3fostsvzpd6p3mductdoz37tg9clz7h&max_results=10&expansions=referenced_tweets.id&tweet.fields=text\n",
      "--\n",
      "got 10 tweets.\n",
      "https://api.twitter.com/2/tweets/search/recent?query=amnesty%20international%20lang%3Aen&next_token=b26v89c19zqg8o3fostsvzpd0m6p80f9q4d8wjufbs6t9&max_results=10&expansions=referenced_tweets.id&tweet.fields=text\n",
      "--\n",
      "got 10 tweets.\n",
      "https://api.twitter.com/2/tweets/search/recent?query=amnesty%20international%20lang%3Aen&next_token=b26v89c19zqg8o3fostsvzpcxld5dalofvjrusvi598xp&max_results=10&expansions=referenced_tweets.id&tweet.fields=text\n",
      "--\n",
      "got 10 tweets.\n",
      "https://api.twitter.com/2/tweets/search/recent?query=amnesty%20international%20lang%3Aen&next_token=b26v89c19zqg8o3fostsvzp2frpl3epy9togd3yb2xqil&max_results=10&expansions=referenced_tweets.id&tweet.fields=text\n",
      "--\n",
      "got 10 tweets.\n"
     ]
    }
   ],
   "source": [
    "tm_conf = APIConfig()\n",
    "tm = APIManager(tm_conf)\n",
    "tweets = tm.query('amnesty international lang:en', pages=5)"
   ]
  },
  {
   "cell_type": "code",
   "execution_count": 60,
   "metadata": {},
   "outputs": [],
   "source": [
    "collect += tweets"
   ]
  },
  {
   "cell_type": "code",
   "execution_count": 61,
   "metadata": {},
   "outputs": [],
   "source": [
    "text_list = list(map(text_only, [t.text for t in collect]))"
   ]
  },
  {
   "cell_type": "code",
   "execution_count": null,
   "metadata": {},
   "outputs": [],
   "source": []
  },
  {
   "cell_type": "code",
   "execution_count": 62,
   "metadata": {},
   "outputs": [
    {
     "data": {
      "text/plain": [
       "['DefundAmnesty No wonder why they ignored AmharaGenocide .',\n",
       " 'The history of  reporting on Eritrea is nothing new, sadly Amnesty international made it impossible to separate…',\n",
       " 'Amnesty International urges the Iranian authorities to immediately halt the planned execution of a man sentenced to death…',\n",
       " 'Amnesty International has culture of white privilege, report finds',\n",
       " 'Not surprised that  has a culture of white privilege with senior staff using the N-word and P-word...bias also…',\n",
       " 'UN Amnesty International has culture of white privilege, report finds',\n",
       " 'It is a blessing Eritrea was able to identify the toxic fumes from   long ago EritreaPrevails Eritre…',\n",
       " 'So if this is their work culture at home, imagine the biases, bigoted attitudes and general stupidity they bring to an…',\n",
       " 'So if this is their work culture at home, imagine the biases, bigoted attitudes and general stupidity they bring to an…',\n",
       " 'So if this is their work culture at home, imagine the biases, bigoted attitudes and general stupidity they bring to an…',\n",
       " 'USCIRF Amnesty International Human Rights Watch United Nations Freedom House V Dem Institute A pop sta…',\n",
       " 'Grim, uncomfortable and difficult reading for someone who has worked in one of the places referred to and worked closely w…',\n",
       " 'The Race Commission report said structural racism doesn’t exist. That many other factors contribute to disadvantage. What would they think of the Amnesty International Report',\n",
       " 'Didn’t your sister, thanks to daddy, make millions of dollars from Chinese slave labour? Perhaps she should give it all to amnesty international... perhaps you should donate as well',\n",
       " 'Amnesty International has culture of white privilege, report finds',\n",
       " 'The history of  reporting on Eritrea is nothing new, sadly Amnesty international made it impossible to separate…',\n",
       " 'Amnesty international Write for Rights. The creative direction was all the copy writing this p…',\n",
       " 'JOIN US! Tomorrow, Wed at 5PM to hear from Adotei Akwei from Amnesty International USA, a political analyst with field experi…',\n",
       " 'Amnesty international Write for Rights. The creative direction was all the copy writing this p…',\n",
       " 'Amnesty is racist',\n",
       " 'The Amnesty International unironically says this lmao. How can these western orgs have any credibility?',\n",
       " 'stopGenocidein on tigray Eritreanarmy war crimes Genocidein in tigray peopel CNN International CNN Amnesty Intern…',\n",
       " 'Thousands of people remain stateless in Zimbabwe 41 years since independence as a result of colonial migration and the 1980s Gu…',\n",
       " 'Amnesty International has culture of racism, report finds',\n",
       " 'Amnesty international Write for Rights. The creative direction was all the copy writing this p…',\n",
       " 'It is a blessing Eritrea was able to identify the toxic fumes from   long ago EritreaPrevails Eritre…',\n",
       " 'stopGenocidein on tigray Eritreanarmy war crimes Genocidein in tigray peopel CNN International CNN Amnesty Intern…',\n",
       " 'Amnesty international Write for Rights. The creative direction was all the copy writing this p…',\n",
       " 'i don’t contribute to my country by getting naked. i contribute to OTHER countries by being a youth volunteer for amnesty international a human rights organisation that campaigns against injustice and inequality. i’m also in law school. so on that note plz suck my big fat dick',\n",
       " 'Inspiration of the Day: Amnesty international Write for Rights. The creative direction was all the copy writing this project needed, stunning work!',\n",
       " 'Human rights group Amnesty International flagged attacks by cow vigilantes, communal and, caste-based violence against Da…',\n",
       " '..and is already engineering events that will serve as an excuse for them to stay.The President of Chad for instance sh…',\n",
       " 'JOIN US! Tomorrow, Wed at 5PM to hear from Adotei Akwei from Amnesty International USA, a political analyst with field experi…',\n",
       " 'Met lady from Amnesty international yesterday and she said Pakistan has controlled media. Showed her talk shows for one e…',\n",
       " 'The article below reflects the seriousness of the situation…',\n",
       " 'Thousands of people remain stateless in Zimbabwe 41 years since independence as a result of colonial migration and the 1980s Gu…',\n",
       " 'Thousands of people remain stateless in Zimbabwe 41 years since independence as a result of colonial migration and the 1980s Gu…',\n",
       " 'Met lady from Amnesty international yesterday and she said Pakistan has controlled media. Showed her talk shows for one e…',\n",
       " 'Thousands of people remain stateless in Zimbabwe 41 years since independence as a result of colonial migration and the 1980s Gukurahundi massacres, a recent Amnesty International Report has shown. Asakhe',\n",
       " 'The Amnesty International unironically says this lmao. How can these western orgs have any credibility?',\n",
       " 'Met lady from Amnesty international yesterday and she said Pakistan has controlled media. Showed her talk shows for one e…',\n",
       " 'Qatar executes first person in 20 years: Amnesty International',\n",
       " 'stopGenocidein on tigray Eritreanarmy war crimes Genocidein in tigray peopel CNN International CNN Amnesty Intern…',\n",
       " 'Constant gaslighting of POC staff and racism denial characterised my experiences at . The toxic working…',\n",
       " '“ International has a culture of white privilege with incidents of overt racism including senior staff using the N…',\n",
       " 'stopGenocidein on tigray Eritreanarmy war crimes Genocidein in tigray peopel CNN International CNN Amnesty Intern…',\n",
       " 'Amnesty International has culture of white privilege, report finds',\n",
       " 'Amnesty International has culture of white privilege, report finds',\n",
       " 'The racist sexist AI is becoming clearer to all that has no moral or ethical ground to talk on behalf anyone. EritreaPrevai…',\n",
       " '. International warns about the risk of the execution of JamshidSharmahd in silence! IranTruth']"
      ]
     },
     "execution_count": 62,
     "metadata": {},
     "output_type": "execute_result"
    }
   ],
   "source": [
    "text_list"
   ]
  },
  {
   "cell_type": "code",
   "execution_count": null,
   "metadata": {},
   "outputs": [],
   "source": []
  },
  {
   "cell_type": "code",
   "execution_count": 9,
   "metadata": {},
   "outputs": [],
   "source": []
  },
  {
   "cell_type": "code",
   "execution_count": null,
   "metadata": {},
   "outputs": [],
   "source": []
  },
  {
   "cell_type": "code",
   "execution_count": null,
   "metadata": {},
   "outputs": [],
   "source": []
  },
  {
   "cell_type": "code",
   "execution_count": 2,
   "metadata": {},
   "outputs": [],
   "source": []
  },
  {
   "cell_type": "code",
   "execution_count": null,
   "metadata": {},
   "outputs": [],
   "source": []
  },
  {
   "cell_type": "code",
   "execution_count": null,
   "metadata": {},
   "outputs": [],
   "source": []
  },
  {
   "cell_type": "code",
   "execution_count": null,
   "metadata": {},
   "outputs": [],
   "source": []
  }
 ],
 "metadata": {
  "kernelspec": {
   "display_name": "Python 3",
   "language": "python",
   "name": "python3"
  },
  "language_info": {
   "codemirror_mode": {
    "name": "ipython",
    "version": 3
   },
   "file_extension": ".py",
   "mimetype": "text/x-python",
   "name": "python",
   "nbconvert_exporter": "python",
   "pygments_lexer": "ipython3",
   "version": "3.8.8"
  }
 },
 "nbformat": 4,
 "nbformat_minor": 4
}
