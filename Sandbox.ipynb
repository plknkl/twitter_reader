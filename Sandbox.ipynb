{
 "cells": [
  {
   "cell_type": "code",
   "execution_count": null,
   "metadata": {},
   "outputs": [],
   "source": [
    "from twitter_api import twitter_reader as tr\n",
    "from data_storage.db_manager import save_tweets, DBConfig, read_tweets, clear_tweet_table"
   ]
  },
  {
   "cell_type": "code",
   "execution_count": 2,
   "metadata": {},
   "outputs": [
    {
     "name": "stdout",
     "output_type": "stream",
     "text": [
      "got 10 tweets.\n"
     ]
    }
   ],
   "source": [
    "tr_conf = tr.Config()\n",
    "response = tr.query('ferrari', tr_conf)"
   ]
  },
  {
   "cell_type": "code",
   "execution_count": 3,
   "metadata": {},
   "outputs": [],
   "source": [
    "db_conf = DBConfig()"
   ]
  },
  {
   "cell_type": "code",
   "execution_count": 4,
   "metadata": {},
   "outputs": [],
   "source": [
    "clear_tweet_table(db_conf)\n",
    "save_tweets(response['data'], db_conf)"
   ]
  },
  {
   "cell_type": "code",
   "execution_count": 5,
   "metadata": {},
   "outputs": [],
   "source": [
    "tweets = read_tweets(db_conf)"
   ]
  },
  {
   "cell_type": "code",
   "execution_count": 6,
   "metadata": {},
   "outputs": [
    {
     "data": {
      "text/plain": [
       "[{'id': '1379731923145256962',\n",
       "  'author_id': '929983174565908480',\n",
       "  'created_at': '2021-04-07T09:44:59.000Z',\n",
       "  'text': '@ausgrandprix Has to be Ferrari'},\n",
       " {'id': '1379732328814100481',\n",
       "  'author_id': '831763872747048960',\n",
       "  'created_at': '2021-04-07T09:46:36.000Z',\n",
       "  'text': 'RT @sarcastic_bobby: @oj_deji That babe na my ex...A ti Ferrari https://t.co/A7ytWEIjZn'},\n",
       " {'id': '1379732282685206528',\n",
       "  'author_id': '2285395853',\n",
       "  'created_at': '2021-04-07T09:46:25.000Z',\n",
       "  'text': 'RT @_DAGOSPIA_: LO SCIAMANO DI PIAZZA MONTECITORIO, HERMES FERRARI, HA UN PASSATO DI RISSE E ARRESTI https://t.co/CU3xovAi6c https://t.co/i…'},\n",
       " {'id': '1379732193283600386',\n",
       "  'author_id': '40190755',\n",
       "  'created_at': '2021-04-07T09:46:03.000Z',\n",
       "  'text': 'RT @qendra_e: Në një foto e shkrepur një ditë të marte shumë vite më parë në Francineto dhe të publikuar nga Lucia Martino shfaqet Ernest K…'},\n",
       " {'id': '1379732156533063680',\n",
       "  'author_id': '2243508517',\n",
       "  'created_at': '2021-04-07T09:45:54.000Z',\n",
       "  'text': \"RT @BriefcaseMike: Nick Ferrari's dim-wittedness can sometimes be amusing. When a caller mentioned 'brown face' Ferrari asked if that was t…\"},\n",
       " {'id': '1379732099523956738',\n",
       "  'author_id': '2652905138',\n",
       "  'created_at': '2021-04-07T09:45:41.000Z',\n",
       "  'text': '【458 Italia (Ferrari)】\\n F1で培った技術を結集させ世界各国から30を超える国際的な賞を獲得したフェラーリの超高性能ファミリーの一員。\\n 《排気》4.5L\\n《価格》2830万円 https://t.co/YhQ44OUYH5'},\n",
       " {'id': '1379732099427602432',\n",
       "  'author_id': '1333196729580195847',\n",
       "  'created_at': '2021-04-07T09:45:41.000Z',\n",
       "  'text': 'RT @DidierMaisto: C’est ça. D’ailleurs je ne peux plus écouter Laurence Ferrari parce que ça ressemble trop à spaghetti. On n’a pas encore…'},\n",
       " {'id': '1379732063457185795',\n",
       "  'author_id': '310938487',\n",
       "  'created_at': '2021-04-07T09:45:32.000Z',\n",
       "  'text': 'RT @AUTOSPORT_web: フェラーリは2022年までGTEプログラムを維持も、LMH参入の23年以降は不透明／WEC https://t.co/38rKFSk4ya #フェラーリ #WEC #LeMans24jp #WECjp #Ferrari https://t.…'},\n",
       " {'id': '1379732062282907656',\n",
       "  'author_id': '1088400109539340288',\n",
       "  'created_at': '2021-04-07T09:45:32.000Z',\n",
       "  'text': '@TimPollardCars @CARmagazine @JaguarUK @Jaguar @Ferrari F Type all day much better looking car'},\n",
       " {'id': '1379732002509877256',\n",
       "  'author_id': '1379730368723611649',\n",
       "  'created_at': '2021-04-07T09:45:18.000Z',\n",
       "  'text': '#prelemi Il programma di Ferrari è radio e imitazione insieme  trasmesso anche su Italia1...il sogno di pier...cosa ne dite di raggruppare tutte le imitazioni radio di pier e mandarle a Ferrari dicendo che aspettiamo pier a ciao belli? Se aspettiamo oceano facciamo tempo a morire https://t.co/hhOB92DcRf'}]"
      ]
     },
     "execution_count": 6,
     "metadata": {},
     "output_type": "execute_result"
    }
   ],
   "source": [
    "tweets"
   ]
  },
  {
   "cell_type": "code",
   "execution_count": null,
   "metadata": {},
   "outputs": [],
   "source": []
  }
 ],
 "metadata": {
  "kernelspec": {
   "display_name": "Python 3",
   "language": "python",
   "name": "python3"
  },
  "language_info": {
   "codemirror_mode": {
    "name": "ipython",
    "version": 3
   },
   "file_extension": ".py",
   "mimetype": "text/x-python",
   "name": "python",
   "nbconvert_exporter": "python",
   "pygments_lexer": "ipython3",
   "version": "3.8.5"
  }
 },
 "nbformat": 4,
 "nbformat_minor": 4
}
