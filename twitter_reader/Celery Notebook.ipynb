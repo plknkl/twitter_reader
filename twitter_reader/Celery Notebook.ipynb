{
 "cells": [
  {
   "cell_type": "code",
   "execution_count": 4,
   "id": "dd545360",
   "metadata": {},
   "outputs": [],
   "source": [
    "from celery_module.tasks import query_tweets"
   ]
  },
  {
   "cell_type": "code",
   "execution_count": 7,
   "id": "b6275fe6",
   "metadata": {},
   "outputs": [],
   "source": [
    "result = query_tweets.delay(\"summer lang:en\")"
   ]
  },
  {
   "cell_type": "code",
   "execution_count": 8,
   "id": "65876c1a",
   "metadata": {},
   "outputs": [
    {
     "data": {
      "text/plain": [
       "'Got 10 tweets'"
      ]
     },
     "execution_count": 8,
     "metadata": {},
     "output_type": "execute_result"
    }
   ],
   "source": [
    "result.get()"
   ]
  },
  {
   "cell_type": "code",
   "execution_count": null,
   "id": "6e585117",
   "metadata": {},
   "outputs": [],
   "source": []
  }
 ],
 "metadata": {
  "kernelspec": {
   "display_name": "Python 3",
   "language": "python",
   "name": "python3"
  },
  "language_info": {
   "codemirror_mode": {
    "name": "ipython",
    "version": 3
   },
   "file_extension": ".py",
   "mimetype": "text/x-python",
   "name": "python",
   "nbconvert_exporter": "python",
   "pygments_lexer": "ipython3",
   "version": "3.8.8"
  }
 },
 "nbformat": 4,
 "nbformat_minor": 5
}
